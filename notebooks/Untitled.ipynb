{
 "cells": [
  {
   "cell_type": "code",
   "execution_count": 7,
   "id": "f4ca9618",
   "metadata": {},
   "outputs": [],
   "source": [
    "from python_functions import django_initializer"
   ]
  },
  {
   "cell_type": "code",
   "execution_count": 8,
   "id": "875b25b8",
   "metadata": {},
   "outputs": [],
   "source": [
    "from checkins.models import Attendee"
   ]
  },
  {
   "cell_type": "code",
   "execution_count": 9,
   "id": "6c4a368c",
   "metadata": {},
   "outputs": [
    {
     "name": "stdout",
     "output_type": "stream",
     "text": [
      "<QuerySet [<Attendee: Emily>, <Attendee: Gary>, <Attendee: Sam>, <Attendee: Rory>, <Attendee: Jonathan>, <Attendee: Gary>, <Attendee: Max>, <Attendee: David>, <Attendee: Jonathan>, <Attendee: Rory>, <Attendee: Kevin>, <Attendee: Gary>, <Attendee: Max>, <Attendee: Jonathan>, <Attendee: Cathal>, <Attendee: Jude>, <Attendee: Kate>, <Attendee: David>, <Attendee: Cathal>, <Attendee: Sam>, '...(remaining elements truncated)...']>\n"
     ]
    }
   ],
   "source": [
    "print(Attendee.objects.all())"
   ]
  },
  {
   "cell_type": "code",
   "execution_count": 10,
   "id": "ce8d05be",
   "metadata": {},
   "outputs": [
    {
     "data": {
      "text/plain": [
       "<function dir>"
      ]
     },
     "execution_count": 10,
     "metadata": {},
     "output_type": "execute_result"
    }
   ],
   "source": [
    "dir"
   ]
  },
  {
   "cell_type": "code",
   "execution_count": 11,
   "id": "c241948f",
   "metadata": {},
   "outputs": [],
   "source": [
    "import pandas as pd\n",
    "import numpy as np\n",
    "import matplotlib.pyplot as plt"
   ]
  },
  {
   "cell_type": "code",
   "execution_count": 12,
   "id": "cbdbe565",
   "metadata": {},
   "outputs": [
    {
     "name": "stdout",
     "output_type": "stream",
     "text": [
      "Emily\n"
     ]
    }
   ],
   "source": [
    "print(Attendee.objects.all()[0])"
   ]
  },
  {
   "cell_type": "code",
   "execution_count": 13,
   "id": "f8e9415c",
   "metadata": {},
   "outputs": [
    {
     "ename": "AttributeError",
     "evalue": "'Attendee' object has no attribute 'date'",
     "output_type": "error",
     "traceback": [
      "\u001b[0;31m---------------------------------------------------------------------------\u001b[0m",
      "\u001b[0;31mAttributeError\u001b[0m                            Traceback (most recent call last)",
      "\u001b[0;32m/var/folders/2k/yb90hyx97417kdkmmszs63wh0000gn/T/ipykernel_77566/1607183342.py\u001b[0m in \u001b[0;36m<module>\u001b[0;34m\u001b[0m\n\u001b[1;32m      1\u001b[0m \u001b[0mone\u001b[0m \u001b[0;34m=\u001b[0m \u001b[0mAttendee\u001b[0m\u001b[0;34m.\u001b[0m\u001b[0mobjects\u001b[0m\u001b[0;34m.\u001b[0m\u001b[0mall\u001b[0m\u001b[0;34m(\u001b[0m\u001b[0;34m)\u001b[0m\u001b[0;34m[\u001b[0m\u001b[0;36m0\u001b[0m\u001b[0;34m]\u001b[0m\u001b[0;34m\u001b[0m\u001b[0;34m\u001b[0m\u001b[0m\n\u001b[0;32m----> 2\u001b[0;31m \u001b[0mprint\u001b[0m\u001b[0;34m(\u001b[0m\u001b[0mone\u001b[0m\u001b[0;34m.\u001b[0m\u001b[0mdate\u001b[0m\u001b[0;34m)\u001b[0m\u001b[0;34m\u001b[0m\u001b[0;34m\u001b[0m\u001b[0m\n\u001b[0m",
      "\u001b[0;31mAttributeError\u001b[0m: 'Attendee' object has no attribute 'date'"
     ]
    }
   ],
   "source": [
    "one = Attendee.objects.all()[0]\n",
    "print(one.date)"
   ]
  },
  {
   "cell_type": "code",
   "execution_count": null,
   "id": "884ddf9f",
   "metadata": {},
   "outputs": [],
   "source": [
    "print(one.lesson)"
   ]
  },
  {
   "cell_type": "code",
   "execution_count": 18,
   "id": "e38724c4",
   "metadata": {},
   "outputs": [],
   "source": [
    "df = pd.DataFrame(Attendee.objects.all())"
   ]
  },
  {
   "cell_type": "markdown",
   "id": "c7a5aff1",
   "metadata": {},
   "source": []
  },
  {
   "cell_type": "code",
   "execution_count": 19,
   "id": "98b6f934",
   "metadata": {},
   "outputs": [
    {
     "name": "stdout",
     "output_type": "stream",
     "text": [
      "      id  user_id  lesson_id  checked_in\n",
      "0      6       58          3       False\n",
      "1      7        5          5       False\n",
      "2      8        1          4       False\n",
      "3     10       15          3       False\n",
      "4     12        7          7       False\n",
      "..   ...      ...        ...         ...\n",
      "182  259        1        167       False\n",
      "183  260       60        167       False\n",
      "184  261       60        168       False\n",
      "185  262       60        169       False\n",
      "186  263       61        169       False\n",
      "\n",
      "[187 rows x 4 columns]\n"
     ]
    }
   ],
   "source": [
    "print(df)"
   ]
  },
  {
   "cell_type": "code",
   "execution_count": 20,
   "id": "9475ad35",
   "metadata": {},
   "outputs": [],
   "source": [
    "from checkins.models import Lesson"
   ]
  },
  {
   "cell_type": "code",
   "execution_count": 21,
   "id": "6ed9b945",
   "metadata": {},
   "outputs": [],
   "source": [
    "lesson = Lesson.objects.all()\n",
    "lessonDF = pd.DataFrame(lesson.values())"
   ]
  },
  {
   "cell_type": "code",
   "execution_count": 22,
   "id": "f4d88fa7",
   "metadata": {},
   "outputs": [
    {
     "name": "stdout",
     "output_type": "stream",
     "text": [
      "      id                      time  class_type  schedule_id\n",
      "0      1 2021-10-21 06:00:00+00:00  NoGi Class            1\n",
      "1      2 2021-10-21 09:00:00+00:00  NoGi Class            1\n",
      "2      3 2021-10-21 17:00:00+00:00  NoGi Class            1\n",
      "3      4 2021-10-22 06:00:00+00:00    Gi Class            2\n",
      "4      5 2021-10-22 11:00:00+00:00    Gi Class            2\n",
      "..   ...                       ...         ...          ...\n",
      "133  165 2021-12-28 18:00:00+00:00    Open Mat           85\n",
      "134  166 2021-12-29 10:00:00+00:00    Open Mat           86\n",
      "135  167 2021-12-30 18:00:00+00:00    Open Mat           87\n",
      "136  168 2021-12-31 13:00:00+00:00    Open Mat           88\n",
      "137  169 2022-01-03 10:00:00+00:00    Open Mat           89\n",
      "\n",
      "[138 rows x 4 columns]\n"
     ]
    }
   ],
   "source": [
    "print(lessonDF)"
   ]
  },
  {
   "cell_type": "code",
   "execution_count": 24,
   "id": "c2c47cec",
   "metadata": {},
   "outputs": [
    {
     "name": "stdout",
     "output_type": "stream",
     "text": [
      "85     7\n",
      "37     6\n",
      "69     5\n",
      "21     5\n",
      "45     5\n",
      "      ..\n",
      "40     1\n",
      "113    1\n",
      "38     1\n",
      "60     1\n",
      "120    1\n",
      "Name: lesson_id, Length: 91, dtype: int64\n"
     ]
    }
   ],
   "source": [
    "print(df['lesson_id'].value_counts())"
   ]
  },
  {
   "cell_type": "code",
   "execution_count": 25,
   "id": "ff0ef6dc",
   "metadata": {},
   "outputs": [
    {
     "name": "stdout",
     "output_type": "stream",
     "text": [
      "AxesSubplot(0.125,0.125;0.775x0.755)\n"
     ]
    },
    {
     "data": {
      "image/png": "[encoded data removed]",
      "text/plain": [
       "<Figure size 432x288 with 1 Axes>"
      ]
     },
     "metadata": {
      "needs_background": "light"
     },
     "output_type": "display_data"
    }
   ],
   "source": [
    "print(df['lesson_id'].value_counts().plot(kind='bar'))"
   ]
  },
  {
   "cell_type": "code",
   "execution_count": 26,
   "id": "a05f946f",
   "metadata": {},
   "outputs": [
    {
     "ename": "NameError",
     "evalue": "name 'Count' is not defined",
     "output_type": "error",
     "traceback": [
      "\u001b[0;31m---------------------------------------------------------------------------\u001b[0m",
      "\u001b[0;31mNameError\u001b[0m                                 Traceback (most recent call last)",
      "\u001b[0;32m/var/folders/2k/yb90hyx97417kdkmmszs63wh0000gn/T/ipykernel_77566/2222061710.py\u001b[0m in \u001b[0;36m<module>\u001b[0;34m\u001b[0m\n\u001b[0;32m----> 1\u001b[0;31m \u001b[0mprint\u001b[0m\u001b[0;34m(\u001b[0m\u001b[0mAttendee\u001b[0m\u001b[0;34m.\u001b[0m\u001b[0mobjects\u001b[0m\u001b[0;34m.\u001b[0m\u001b[0mall\u001b[0m\u001b[0;34m(\u001b[0m\u001b[0;34m)\u001b[0m\u001b[0;34m.\u001b[0m\u001b[0mvalues\u001b[0m\u001b[0;34m(\u001b[0m\u001b[0;34m'lesson_id'\u001b[0m\u001b[0;34m)\u001b[0m\u001b[0;34m.\u001b[0m\u001b[0mannotate\u001b[0m\u001b[0;34m(\u001b[0m\u001b[0mcount\u001b[0m\u001b[0;34m=\u001b[0m\u001b[0mCount\u001b[0m\u001b[0;34m(\u001b[0m\u001b[0;34m'lesson_id'\u001b[0m\u001b[0;34m)\u001b[0m\u001b[0;34m)\u001b[0m\u001b[0;34m)\u001b[0m\u001b[0;34m\u001b[0m\u001b[0;34m\u001b[0m\u001b[0m\n\u001b[0m",
      "\u001b[0;31mNameError\u001b[0m: name 'Count' is not defined"
     ]
    }
   ],
   "source": [
    "print(Attendee.objects.all().values('lesson').annotate(count=Count('lesson_id')))"
   ]
  },
  {
   "cell_type": "code",
   "execution_count": 29,
   "id": "5584bdf0",
   "metadata": {},
   "outputs": [],
   "source": [
    "lessons = pd.DataFrame(Attendee.objects.all().values('lesson'))"
   ]
  },
  {
   "cell_type": "code",
   "execution_count": 30,
   "id": "57d20fef",
   "metadata": {},
   "outputs": [
    {
     "name": "stdout",
     "output_type": "stream",
     "text": [
      "     lesson\n",
      "0         3\n",
      "1         5\n",
      "2         4\n",
      "3         3\n",
      "4         7\n",
      "..      ...\n",
      "182     167\n",
      "183     167\n",
      "184     168\n",
      "185     169\n",
      "186     169\n",
      "\n",
      "[187 rows x 1 columns]\n"
     ]
    }
   ],
   "source": [
    "print(lessons)"
   ]
  },
  {
   "cell_type": "code",
   "execution_count": 35,
   "id": "3fad419e",
   "metadata": {},
   "outputs": [],
   "source": [
    "fullDF = pd.merge(df, lessonDF)"
   ]
  },
  {
   "cell_type": "code",
   "execution_count": 36,
   "id": "3b630829",
   "metadata": {},
   "outputs": [
    {
     "name": "stdout",
     "output_type": "stream",
     "text": [
      "     id  user_id  lesson_id  checked_in                      time  class_type  \\\n",
      "0     6       58          3       False 2021-10-22 17:00:00+00:00    Gi Class   \n",
      "1     7        5          5       False 2021-10-23 09:00:00+00:00  NoGi Class   \n",
      "2     8        1          4       False 2021-10-25 11:00:00+00:00    Gi Class   \n",
      "3    10       15          3       False 2021-10-26 09:00:00+00:00  NoGi Class   \n",
      "4    12        7          7       False 2021-10-27 06:00:00+00:00    Gi Class   \n",
      "..  ...      ...        ...         ...                       ...         ...   \n",
      "91  165       67         77       False 2021-12-28 18:00:00+00:00    Open Mat   \n",
      "92  166       15         75       False 2021-12-29 10:00:00+00:00    Open Mat   \n",
      "93  167       61         75       False 2021-12-30 18:00:00+00:00    Open Mat   \n",
      "94  168        5         77       False 2021-12-31 13:00:00+00:00    Open Mat   \n",
      "95  169        3         78       False 2022-01-03 10:00:00+00:00    Open Mat   \n",
      "\n",
      "    schedule_id  \n",
      "0             2  \n",
      "1             3  \n",
      "2             4  \n",
      "3             5  \n",
      "4             6  \n",
      "..          ...  \n",
      "91           85  \n",
      "92           86  \n",
      "93           87  \n",
      "94           88  \n",
      "95           89  \n",
      "\n",
      "[96 rows x 7 columns]\n"
     ]
    }
   ],
   "source": [
    "print(fullDF)"
   ]
  },
  {
   "cell_type": "code",
   "execution_count": 37,
   "id": "ee2f1efd",
   "metadata": {},
   "outputs": [
    {
     "name": "stdout",
     "output_type": "stream",
     "text": [
      "2021-10-22 17:00:00+00:00    1\n",
      "2021-10-23 09:00:00+00:00    1\n",
      "2021-11-30 18:00:00+00:00    1\n",
      "2021-11-30 10:00:00+00:00    1\n",
      "2021-11-30 07:00:00+00:00    1\n",
      "                            ..\n",
      "2021-11-10 07:00:00+00:00    1\n",
      "2021-11-09 18:00:00+00:00    1\n",
      "2021-11-09 10:00:00+00:00    1\n",
      "2021-11-09 07:00:00+00:00    1\n",
      "2022-01-03 10:00:00+00:00    1\n",
      "Name: time, Length: 96, dtype: int64\n"
     ]
    }
   ],
   "source": [
    "print(fullDF['time'].value_counts())"
   ]
  },
  {
   "cell_type": "code",
   "execution_count": null,
   "id": "8a00e873",
   "metadata": {},
   "outputs": [],
   "source": []
  }
 ],
 "metadata": {
  "interpreter": {
   "hash": "c4593c82f896e7750c3afb95c40ac512ecd3406ffd6f88c8174332a5dbe92b1a"
  },
  "kernelspec": {
   "display_name": "Django Shell-Plus",
   "language": "python",
   "name": "python3"
  },
  "language_info": {
   "codemirror_mode": {
    "name": "ipython",
    "version": 3
   },
   "file_extension": ".py",
   "mimetype": "text/x-python",
   "name": "python",
   "nbconvert_exporter": "python",
   "pygments_lexer": "ipython3",
   "version": "3.8.5"
  }
 },
 "nbformat": 4,
 "nbformat_minor": 5
}
