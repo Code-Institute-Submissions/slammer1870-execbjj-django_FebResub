{
 "cells": [
  {
   "cell_type": "code",
   "execution_count": 2,
   "id": "a20eb240",
   "metadata": {},
   "outputs": [],
   "source": [
    "from python_functions import django_initializer\n",
    "from checkins.models import Lesson, Attendee\n",
    "\n",
    "import pandas as pd\n",
    "import numpy as np\n",
    "import matplotlib.pyplot as plt"
   ]
  },
  {
   "cell_type": "markdown",
   "id": "c44a0e12",
   "metadata": {},
   "source": [
    "Create Dataframes of Lessons and Attendees\n"
   ]
  },
  {
   "cell_type": "code",
   "execution_count": 14,
   "id": "7882deb8",
   "metadata": {},
   "outputs": [
    {
     "name": "stdout",
     "output_type": "stream",
     "text": [
      "      id  user_id  lesson_id  checked_in\n",
      "0      6       58          3       False\n",
      "1      7        5          5       False\n",
      "2      8        1          4       False\n",
      "3     10       15          3       False\n",
      "4     12        7          7       False\n",
      "..   ...      ...        ...         ...\n",
      "182  259        1        167       False\n",
      "183  260       60        167       False\n",
      "184  261       60        168       False\n",
      "185  262       60        169       False\n",
      "186  263       61        169       False\n",
      "\n",
      "[187 rows x 4 columns]\n"
     ]
    }
   ],
   "source": [
    "lessons = pd.DataFrame(Lesson.objects.all().values())\n",
    "attendees = pd.DataFrame(Attendee.objects.all().values())\n",
    "\n",
    "#print(lessons.head())\n",
    "print(attendees)"
   ]
  },
  {
   "cell_type": "code",
   "execution_count": 16,
   "id": "d2f0fa27",
   "metadata": {},
   "outputs": [
    {
     "name": "stdout",
     "output_type": "stream",
     "text": [
      "     lesson_id                      time  class_type  schedule_id\n",
      "0            1 2021-10-21 06:00:00+00:00  NoGi Class            1\n",
      "1            2 2021-10-21 09:00:00+00:00  NoGi Class            1\n",
      "2            3 2021-10-21 17:00:00+00:00  NoGi Class            1\n",
      "3            4 2021-10-22 06:00:00+00:00    Gi Class            2\n",
      "4            5 2021-10-22 11:00:00+00:00    Gi Class            2\n",
      "..         ...                       ...         ...          ...\n",
      "133        165 2021-12-28 18:00:00+00:00    Open Mat           85\n",
      "134        166 2021-12-29 10:00:00+00:00    Open Mat           86\n",
      "135        167 2021-12-30 18:00:00+00:00    Open Mat           87\n",
      "136        168 2021-12-31 13:00:00+00:00    Open Mat           88\n",
      "137        169 2022-01-03 10:00:00+00:00    Open Mat           89\n",
      "\n",
      "[138 rows x 4 columns]\n"
     ]
    }
   ],
   "source": [
    "lessons.rename(columns={'id':'lesson_id'}, inplace=True)\n",
    "print(lessons)\n"
   ]
  },
  {
   "cell_type": "code",
   "execution_count": 59,
   "id": "cf072108",
   "metadata": {},
   "outputs": [],
   "source": [
    "lesson_attendees = attendees.merge(lessons, on='lesson_id', how='left')"
   ]
  },
  {
   "cell_type": "code",
   "execution_count": 60,
   "id": "2cea251c",
   "metadata": {},
   "outputs": [],
   "source": [
    "lesson_attendees['time'] = pd.to_datetime(lesson_attendees[\"time\"])"
   ]
  },
  {
   "cell_type": "code",
   "execution_count": 61,
   "id": "b103ac8b",
   "metadata": {},
   "outputs": [
    {
     "name": "stdout",
     "output_type": "stream",
     "text": [
      "      id  user_id  lesson_id  checked_in            time  class_type  \\\n",
      "0      6       58          3       False  Thursday 17:00  NoGi Class   \n",
      "1      7        5          5       False    Friday 11:00    Gi Class   \n",
      "2      8        1          4       False    Friday 06:00    Gi Class   \n",
      "3     10       15          3       False  Thursday 17:00  NoGi Class   \n",
      "4     12        7          7       False  Saturday 09:00  NoGi Class   \n",
      "..   ...      ...        ...         ...             ...         ...   \n",
      "182  259        1        167       False  Thursday 18:00    Open Mat   \n",
      "183  260       60        167       False  Thursday 18:00    Open Mat   \n",
      "184  261       60        168       False    Friday 13:00    Open Mat   \n",
      "185  262       60        169       False    Monday 10:00    Open Mat   \n",
      "186  263       61        169       False    Monday 10:00    Open Mat   \n",
      "\n",
      "     schedule_id  \n",
      "0              1  \n",
      "1              2  \n",
      "2              2  \n",
      "3              1  \n",
      "4              3  \n",
      "..           ...  \n",
      "182           87  \n",
      "183           87  \n",
      "184           88  \n",
      "185           89  \n",
      "186           89  \n",
      "\n",
      "[187 rows x 7 columns]\n"
     ]
    }
   ],
   "source": [
    "lesson_attendees['time'] = lesson_attendees['time'].dt.strftime('%A %H:%M')\n",
    "print(lesson_attendees)"
   ]
  },
  {
   "cell_type": "code",
   "execution_count": 64,
   "id": "d225302c",
   "metadata": {},
   "outputs": [
    {
     "data": {
      "text/plain": [
       "<AxesSubplot:xlabel='Classes', ylabel='Frequency'>"
      ]
     },
     "execution_count": 64,
     "metadata": {},
     "output_type": "execute_result"
    },
    {
     "data": {
      "image/png": "[encoded data removed]",
      "text/plain": [
       "<Figure size 432x288 with 1 Axes>"
      ]
     },
     "metadata": {
      "needs_background": "light"
     },
     "output_type": "display_data"
    }
   ],
   "source": [
    "lesson_attendees['time'].value_counts().plot(kind='bar', xlabel='Classes', ylabel='Frequency')"
   ]
  },
  {
   "cell_type": "code",
   "execution_count": null,
   "id": "ed9a74e5",
   "metadata": {},
   "outputs": [],
   "source": []
  }
 ],
 "metadata": {
  "interpreter": {
   "hash": "c4593c82f896e7750c3afb95c40ac512ecd3406ffd6f88c8174332a5dbe92b1a"
  },
  "kernelspec": {
   "display_name": "Django Shell-Plus",
   "language": "python",
   "name": "python3"
  },
  "language_info": {
   "codemirror_mode": {
    "name": "ipython",
    "version": 3
   },
   "file_extension": ".py",
   "mimetype": "text/x-python",
   "name": "python",
   "nbconvert_exporter": "python",
   "pygments_lexer": "ipython3",
   "version": "3.8.5"
  }
 },
 "nbformat": 4,
 "nbformat_minor": 5
}
